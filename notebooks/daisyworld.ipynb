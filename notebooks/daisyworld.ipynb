{
 "cells": [
  {
   "cell_type": "markdown",
   "id": "49e0a25a-072d-44e2-8711-6c65ea4d60ef",
   "metadata": {},
   "source": [
    "# daisyworld\n",
    "\n"
   ]
  },
  {
   "cell_type": "code",
   "execution_count": null,
   "id": "5a89cdee-bc80-4c62-9ac5-9c601f229019",
   "metadata": {},
   "outputs": [],
   "source": [
    "import matplotlib.pyplot as plt\n",
    "\n",
    "from dw.simple_dw import SimpleDaisyWorld"
   ]
  },
  {
   "cell_type": "code",
   "execution_count": null,
   "id": "ad89d0ac-fc3f-4c90-b2ad-a836f77cf160",
   "metadata": {},
   "outputs": [],
   "source": [
    "world = SimpleDaisyWorld()"
   ]
  },
  {
   "cell_type": "code",
   "execution_count": null,
   "id": "8d62b3c5-3bd0-4a4b-b24a-409b62e8a7c8",
   "metadata": {},
   "outputs": [],
   "source": [
    "# Modify variables\n",
    "\n",
    "## albedo of light and dark daisies\n",
    "albedo_light_daisies = 0.75\n",
    "albedo_dark_daisies = 0.25\n",
    "albedo_ground = 0.5\n",
    "\n",
    "## starting populations of daisies, in proportion of ground covered\n",
    "cover_light_daisies = 0.2\n",
    "cover_dark_daisies = 0.2\n",
    "cover_arable_ground = 1.0\n",
    "\n",
    "## set the albedo for light daisise\n",
    "world.set_Al(albedo_light_daisies)\n",
    "world.set_Ad(albedo_dark_daisies)\n",
    "world.set_Ag(albedo_ground)\n",
    "\n",
    "## set the values for initial ground cover\n",
    "world.set_p(cover_arable_ground)\n",
    "world.set_initial_ad(cover_dark_daisies)\n",
    "world.set_initial_al(cover_light_daisies)\n",
    "\n",
    "\n"
   ]
  },
  {
   "cell_type": "code",
   "execution_count": null,
   "id": "959b97ca-f3d1-488d-aebc-532462cf5670",
   "metadata": {},
   "outputs": [],
   "source": [
    "world.run_sim()\n",
    "fig, ax = world.plot_curve()\n",
    "plt.show()"
   ]
  }
 ],
 "metadata": {
  "kernelspec": {
   "display_name": "Python 3 (ipykernel)",
   "language": "python",
   "name": "python3"
  },
  "language_info": {
   "codemirror_mode": {
    "name": "ipython",
    "version": 3
   },
   "file_extension": ".py",
   "mimetype": "text/x-python",
   "name": "python",
   "nbconvert_exporter": "python",
   "pygments_lexer": "ipython3",
   "version": "3.12.3"
  }
 },
 "nbformat": 4,
 "nbformat_minor": 5
}
